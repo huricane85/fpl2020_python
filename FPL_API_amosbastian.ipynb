{
  "nbformat": 4,
  "nbformat_minor": 0,
  "metadata": {
    "colab": {
      "name": "FPL API amosbastian",
      "provenance": [],
      "authorship_tag": "ABX9TyMT15i1Y04gy0lJua7hnrdW",
      "include_colab_link": true
    },
    "kernelspec": {
      "name": "python3",
      "display_name": "Python 3"
    }
  },
  "cells": [
    {
      "cell_type": "markdown",
      "metadata": {
        "id": "view-in-github",
        "colab_type": "text"
      },
      "source": [
        "<a href=\"https://colab.research.google.com/github/huricane85/fpl2020_python/blob/master/FPL_API_amosbastian.ipynb\" target=\"_parent\"><img src=\"https://colab.research.google.com/assets/colab-badge.svg\" alt=\"Open In Colab\"/></a>"
      ]
    },
    {
      "cell_type": "code",
      "metadata": {
        "id": "5pv2LLSLoJi2",
        "outputId": "bccd7cff-ab93-4091-eaee-ac3f94b6b8ce",
        "colab": {
          "base_uri": "https://localhost:8080/",
          "height": 136
        }
      },
      "source": [
        "!git clone https://github.com/177arc/pandas-fpl"
      ],
      "execution_count": 1,
      "outputs": [
        {
          "output_type": "stream",
          "text": [
            "Cloning into 'pandas-fpl'...\n",
            "remote: Enumerating objects: 144, done.\u001b[K\n",
            "remote: Counting objects: 100% (144/144), done.\u001b[K\n",
            "remote: Compressing objects: 100% (74/74), done.\u001b[K\n",
            "remote: Total 144 (delta 59), reused 118 (delta 40), pack-reused 0\u001b[K\n",
            "Receiving objects: 100% (144/144), 49.89 KiB | 7.13 MiB/s, done.\n",
            "Resolving deltas: 100% (59/59), done.\n"
          ],
          "name": "stdout"
        }
      ]
    },
    {
      "cell_type": "code",
      "metadata": {
        "id": "nyW7-3DvqHHB",
        "outputId": "40a77d51-c197-4508-beee-9601102dacf1",
        "colab": {
          "base_uri": "https://localhost:8080/",
          "height": 119
        }
      },
      "source": [
        "!git clone https://github.com/drew7vtedu/fpl_player_analysis"
      ],
      "execution_count": 2,
      "outputs": [
        {
          "output_type": "stream",
          "text": [
            "Cloning into 'fpl_player_analysis'...\n",
            "remote: Enumerating objects: 28, done.\u001b[K\n",
            "remote: Counting objects:   3% (1/28)\u001b[K\rremote: Counting objects:   7% (2/28)\u001b[K\rremote: Counting objects:  10% (3/28)\u001b[K\rremote: Counting objects:  14% (4/28)\u001b[K\rremote: Counting objects:  17% (5/28)\u001b[K\rremote: Counting objects:  21% (6/28)\u001b[K\rremote: Counting objects:  25% (7/28)\u001b[K\rremote: Counting objects:  28% (8/28)\u001b[K\rremote: Counting objects:  32% (9/28)\u001b[K\rremote: Counting objects:  35% (10/28)\u001b[K\rremote: Counting objects:  39% (11/28)\u001b[K\rremote: Counting objects:  42% (12/28)\u001b[K\rremote: Counting objects:  46% (13/28)\u001b[K\rremote: Counting objects:  50% (14/28)\u001b[K\rremote: Counting objects:  53% (15/28)\u001b[K\rremote: Counting objects:  57% (16/28)\u001b[K\rremote: Counting objects:  60% (17/28)\u001b[K\rremote: Counting objects:  64% (18/28)\u001b[K\rremote: Counting objects:  67% (19/28)\u001b[K\rremote: Counting objects:  71% (20/28)\u001b[K\rremote: Counting objects:  75% (21/28)\u001b[K\rremote: Counting objects:  78% (22/28)\u001b[K\rremote: Counting objects:  82% (23/28)\u001b[K\rremote: Counting objects:  85% (24/28)\u001b[K\rremote: Counting objects:  89% (25/28)\u001b[K\rremote: Counting objects:  92% (26/28)\u001b[K\rremote: Counting objects:  96% (27/28)\u001b[K\rremote: Counting objects: 100% (28/28)\u001b[K\rremote: Counting objects: 100% (28/28), done.\u001b[K\n",
            "remote: Compressing objects:   4% (1/23)\u001b[K\rremote: Compressing objects:   8% (2/23)\u001b[K\rremote: Compressing objects:  13% (3/23)\u001b[K\rremote: Compressing objects:  17% (4/23)\u001b[K\rremote: Compressing objects:  21% (5/23)\u001b[K\rremote: Compressing objects:  26% (6/23)\u001b[K\rremote: Compressing objects:  30% (7/23)\u001b[K\rremote: Compressing objects:  34% (8/23)\u001b[K\rremote: Compressing objects:  39% (9/23)\u001b[K\rremote: Compressing objects:  43% (10/23)\u001b[K\rremote: Compressing objects:  47% (11/23)\u001b[K\rremote: Compressing objects:  52% (12/23)\u001b[K\rremote: Compressing objects:  56% (13/23)\u001b[K\rremote: Compressing objects:  60% (14/23)\u001b[K\rremote: Compressing objects:  65% (15/23)\u001b[K\rremote: Compressing objects:  69% (16/23)\u001b[K\rremote: Compressing objects:  73% (17/23)\u001b[K\rremote: Compressing objects:  78% (18/23)\u001b[K\rremote: Compressing objects:  82% (19/23)\u001b[K\rremote: Compressing objects:  86% (20/23)\u001b[K\rremote: Compressing objects:  91% (21/23)\u001b[K\rremote: Compressing objects:  95% (22/23)\u001b[K\rremote: Compressing objects: 100% (23/23)\u001b[K\rremote: Compressing objects: 100% (23/23), done.\u001b[K\n",
            "remote: Total 28 (delta 4), reused 11 (delta 4), pack-reused 0\u001b[K\n",
            "Unpacking objects: 100% (28/28), done.\n"
          ],
          "name": "stdout"
        }
      ]
    },
    {
      "cell_type": "code",
      "metadata": {
        "id": "P6TJhFHiqvPc",
        "outputId": "40c39033-bffd-479f-b1e7-53fa4bff00ce",
        "colab": {
          "base_uri": "https://localhost:8080/",
          "height": 129
        }
      },
      "source": [
        "import csv\n",
        "import player_object\n",
        "import fantasy_value_metrics as metrics\n",
        "\n",
        "def save_db(players):\n",
        "\n",
        "    csv_columns = [\"first_name\", \"last_name\", \"points_last_season\", \"current_points\", \"price\", \"minutes\", \"points_per_90\", \"points_per_match\", \"points_per_match2\", \"value_added_per_mil\"]\n",
        "\n",
        "    outfile = open(\"./Data/saved_player_db.csv\", 'w')\n",
        "    # write headers for each column of the csv\n",
        "    writer = csv.DictWriter(outfile, fieldnames = csv_columns)\n",
        "    writer.writeheader()\n",
        "    for player in players:\n",
        "        writer.writerow(player.to_dict())\n",
        "\n",
        "\n",
        "\n",
        "# create the initial player db and save it to a csv which can be easily loaded\n",
        "def create_player_db(last_year_csv, this_year_csv):\n",
        "    # open both files with the provided paths\n",
        "    last_year = open(last_year_csv)\n",
        "    this_year = open(this_year_csv)\n",
        "\n",
        "    last_parser = csv.reader(last_year)\n",
        "    current_parser = csv.reader(this_year)\n",
        "\n",
        "    # skip headers\n",
        "    next(last_parser)\n",
        "    next(current_parser)\n",
        "\n",
        "    # list of player objects\n",
        "    player_db = []\n",
        "\n",
        "\n",
        "    # first fill db with this years players\n",
        "    for row in current_parser:\n",
        "       player = player_object.player_obj(row[0], row[1], 0, 0, int(row[3]), 0 row[5])\n",
        "       player_db.append(player)\n",
        "\n",
        "\n",
        "    # check each player in last years data against current list and update matches\n",
        "    for row in last_parser:\n",
        "        for player in player_db:\n",
        "            if player.matches(row[0], row[1]):\n",
        "                player.set_pls(int(row[4]))\n",
        "                player.set_minutes(int(row[5]))\n",
        "                player.set_points_per_90(metrics.points_scored_per_90(int(row[4]), int(row[5])))\n",
        "                player.set_points_per_match(metrics.points_scored_per_match(int(row[4]), 38))\n",
        "                player.set_points_per_match2(metrics.points_scored_per_match(int(row[4]) - (2 * 38), 38))\n",
        "                player.set_value_added_per_mil(metrics.value_added_per_mil(int(row[4]), 38, player.get_price()))\n",
        "\n",
        "    last_year.close()\n",
        "    this_year.close()\n",
        "    save_db(player_db)\n",
        "\n",
        "# driver code\n",
        "create_player_db(\"./Data/cleaned_players_19-20.csv\", \"./Data/current_player_data.csv\")\n"
      ],
      "execution_count": 4,
      "outputs": [
        {
          "output_type": "error",
          "ename": "SyntaxError",
          "evalue": "ignored",
          "traceback": [
            "\u001b[0;36m  File \u001b[0;32m\"<ipython-input-4-50e9031bf372>\"\u001b[0;36m, line \u001b[0;32m37\u001b[0m\n\u001b[0;31m    player = player_object.player_obj(row[0], row[1], 0, 0, int(row[3]), 0 row[5])\u001b[0m\n\u001b[0m                                                                             ^\u001b[0m\n\u001b[0;31mSyntaxError\u001b[0m\u001b[0;31m:\u001b[0m invalid syntax\n"
          ]
        }
      ]
    },
    {
      "cell_type": "code",
      "metadata": {
        "id": "kptTDglLsJLk"
      },
      "source": [
        "import pandas as pd\n",
        "import json\n",
        "import csv\n",
        "import requests\n",
        "from pandas.io.json import json_normalize\n",
        "\n",
        "\n",
        "\n",
        "\n",
        "# Define a function to get info from the FPL API and save to the specified file_path\n",
        "# It might be a good idea to navigate to the link in a browser to get an idea of what the data looks like\n",
        "def get_json(file_path):\n",
        "    r = requests.get('https://fantasy.premierleague.com/api/bootstrap-static/')\n",
        "    jsonResponse = r.json()\n",
        "    with open(file_path, 'w') as outfile:\n",
        "        json.dump(jsonResponse, outfile)\n",
        "\n",
        "# Run the function and choose where to save the json file\n",
        "get_json('player_data.json')\n",
        "\n",
        "# open the json file containing your data\n",
        "json_data = open('player_data.json', encoding='utf-8')\n",
        "\n",
        "# get a string (text) representation of the entire contents of the file\n",
        "data = json_data.read()\n",
        "\n",
        "# convert text to a python dictionary of key-value pairs\n",
        "data_dict = json.JSONDecoder().decode(data)\n",
        "\n",
        "# done with json input file\n",
        "json_data.close()\n",
        "\n",
        "players = data_dict[\"elements\"]\n",
        "\n",
        "# we will fill this list with data and convert it to csv later\n",
        "csv_player_list = []\n",
        "# column headers for when we convert to csv\n",
        "csv_columns = [\"first_name\", \"last_name\", \"current_points\", \"price\", \"minutes\", \"team\", \"Points per game\"]\n",
        "\n",
        "for player in players:\n",
        "    # create dict to fill with each player's data\n",
        "    temp_player_dict = {}\n",
        "    # fill temp dict with desired data\n",
        "    temp_player_dict[\"first_name\"] = player[\"first_name\"]\n",
        "    temp_player_dict[\"last_name\"] = player[\"second_name\"]\n",
        "    temp_player_dict[\"current_points\"] = int(player[\"total_points\"])\n",
        "    temp_player_dict[\"price\"] = int(player[\"now_cost\"])\n",
        "    temp_player_dict[\"minutes\"] = int(player[\"minutes\"])\n",
        "    temp_player_dict[\"Points per game\"] = (player[\"points_per_game\"])\n",
        "\n",
        "    # add data to list to become csv\n",
        "    csv_player_list.append(temp_player_dict)\n",
        "\n",
        "# name of the csv file to write to\n",
        "csv_out = \"current_player_data.csv\"\n",
        "try:\n",
        "    with open(csv_out, 'w') as csvfile:\n",
        "        # write headers for each column of the csv\n",
        "        writer = csv.DictWriter(csvfile, fieldnames = csv_columns)\n",
        "        writer.writeheader()\n",
        "        for player in csv_player_list:\n",
        "            writer.writerow(player)\n",
        "except IOError:\n",
        "    print(\"IOError while opening csv file\")\n",
        "# close out file\n",
        "csvfile.close()\n",
        "\n",
        "# data I can get from each player:\n",
        "# 'chance_of_playing_next_round', 'chance_of_playing_this_round', 'code', 'cost_change_event', 'cost_change_event_fall', 'cost_change_start', 'cost_change_start_fall', 'dreamteam_count', 'element_type', 'ep_next', 'ep_this', 'event_points', 'first_name', 'form', 'id', 'in_dreamteam', 'news', 'news_added', 'now_cost', 'photo', 'points_per_game', 'second_name', 'selected_by_percent', 'special', 'squad_number', 'status', 'team', 'team_code', 'total_points', 'transfers_in', 'transfers_in_event', 'transfers_out', 'transfers_out_event', 'value_form', 'value_season', 'web_name', 'minutes', 'goals_scored', 'assists', 'clean_sheets', 'goals_conceded', 'own_goals', 'penalties_saved', 'penalties_missed', 'yellow_cards', 'red_cards', 'saves', 'bonus', 'bps', 'influence', 'creativity', 'threat', 'ict_index', 'influence_rank', 'influence_rank_type', 'creativity_rank', 'creativity_rank_type', 'threat_rank', 'threat_rank_type', 'ict_index_rank', 'ict_index_rank_type'\n"
      ],
      "execution_count": 10,
      "outputs": []
    },
    {
      "cell_type": "markdown",
      "metadata": {
        "id": "kwNtNrWt3eC5"
      },
      "source": [
        "https://gist.github.com/calumrussell/9a869765af0698fd4fa934ca90029fc8"
      ]
    }
  ]
}